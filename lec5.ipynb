{
 "cells": [
  {
   "cell_type": "markdown",
   "id": "3023a6ed",
   "metadata": {},
   "source": [
    "### Numpy "
   ]
  },
  {
   "cell_type": "code",
   "execution_count": 1,
   "id": "bfdd8560",
   "metadata": {},
   "outputs": [],
   "source": [
    "import typing\n",
    "import numpy as np"
   ]
  },
  {
   "cell_type": "code",
   "execution_count": null,
   "id": "80feebb7",
   "metadata": {},
   "outputs": [],
   "source": [
    "a_list = [-2, 1, 2]\n",
    "a_arr = np.array(a_list) \n",
    "\n",
    "print(type(a_arr))"
   ]
  },
  {
   "cell_type": "code",
   "execution_count": null,
   "id": "41d0674e",
   "metadata": {},
   "outputs": [],
   "source": [
    "print('Shape of theta_arr:', a_arr.shape)"
   ]
  },
  {
   "cell_type": "code",
   "execution_count": null,
   "id": "f2e4f272",
   "metadata": {},
   "outputs": [],
   "source": [
    "# Indexing and slicing is the same for Python lists and numpy arrays\n",
    "print('Second element of theta_list = ', a_list[1])\n",
    "print('Second element of theta_arr = ', a_arr[1])"
   ]
  },
  {
   "cell_type": "code",
   "execution_count": null,
   "id": "1a9c2c61",
   "metadata": {},
   "outputs": [],
   "source": [
    "# Slicing\n",
    "a_arr[1:]"
   ]
  },
  {
   "cell_type": "markdown",
   "id": "3f6c9e5d",
   "metadata": {},
   "source": [
    "### Numpy \"vectorized\" operations\n",
    "\n",
    "Vectorized operations allow you to perform computations on entire arrays without the need for explicit loops."
   ]
  },
  {
   "cell_type": "code",
   "execution_count": null,
   "id": "d7c3491c",
   "metadata": {},
   "outputs": [],
   "source": [
    "a = np.random.random((10000))\n",
    "b = np.random.random((10000))"
   ]
  },
  {
   "cell_type": "code",
   "execution_count": null,
   "id": "e4376ad1",
   "metadata": {},
   "outputs": [],
   "source": [
    "a.shape"
   ]
  },
  {
   "cell_type": "code",
   "execution_count": null,
   "id": "ea879038",
   "metadata": {},
   "outputs": [],
   "source": [
    "b.shape"
   ]
  },
  {
   "cell_type": "code",
   "execution_count": null,
   "id": "c95e8e87",
   "metadata": {},
   "outputs": [],
   "source": [
    "a[0:5]"
   ]
  },
  {
   "cell_type": "code",
   "execution_count": null,
   "id": "b468a836",
   "metadata": {},
   "outputs": [],
   "source": [
    "%%time \n",
    "\n",
    "dp = 0 \n",
    "for i in range(a.shape[0]): \n",
    "    dp += a[i]*b[i]\n",
    "print(dp)"
   ]
  },
  {
   "cell_type": "markdown",
   "id": "d3548a40",
   "metadata": {},
   "source": [
    "Alternatively, with vectorized operations "
   ]
  },
  {
   "cell_type": "code",
   "execution_count": null,
   "id": "af4496d3",
   "metadata": {},
   "outputs": [],
   "source": [
    "%%time\n",
    "\n",
    "np.dot(a, b)"
   ]
  },
  {
   "cell_type": "markdown",
   "id": "27d11bc0",
   "metadata": {},
   "source": [
    "### Matrices "
   ]
  },
  {
   "cell_type": "code",
   "execution_count": 2,
   "id": "d218d461",
   "metadata": {},
   "outputs": [
    {
     "name": "stdout",
     "output_type": "stream",
     "text": [
      "Shape of x2D_array = (2, 3)\n",
      "\t num. rows = 2\n",
      "\t num. columns = 3\n"
     ]
    }
   ],
   "source": [
    "x2D_array = np.array([[1,2,3],\n",
    "                      [4, 5, 6]])\n",
    "\n",
    "print('Shape of x2D_array =', x2D_array.shape)\n",
    "print('\\t num. rows =', x2D_array.shape[0])\n",
    "print('\\t num. columns =', x2D_array.shape[1])"
   ]
  },
  {
   "cell_type": "code",
   "execution_count": 3,
   "id": "0e4aa873",
   "metadata": {},
   "outputs": [
    {
     "name": "stdout",
     "output_type": "stream",
     "text": [
      "Before:\n",
      " [[1 2 3]\n",
      " [4 5 6]]\n",
      "\n",
      "After:\n",
      " [[  1   2   3]\n",
      " [  4 100   6]]\n",
      "\n"
     ]
    }
   ],
   "source": [
    "# You can also modify elements just like in a Python list\n",
    "print(f\"Before:\\n {x2D_array}\\n\")\n",
    "x2D_array[1][1] = 100\n",
    "print(f\"After:\\n {x2D_array}\\n\")"
   ]
  },
  {
   "cell_type": "code",
   "execution_count": 4,
   "id": "593e0219",
   "metadata": {},
   "outputs": [],
   "source": [
    "A = np.array([[1, 2], [3, 4]])\n",
    "B = np.array([[5, 6], [7, 8]])"
   ]
  },
  {
   "cell_type": "code",
   "execution_count": 6,
   "id": "bc5d6696",
   "metadata": {},
   "outputs": [
    {
     "data": {
      "text/plain": [
       "array([[1, 2],\n",
       "       [3, 4]])"
      ]
     },
     "execution_count": 6,
     "metadata": {},
     "output_type": "execute_result"
    }
   ],
   "source": [
    "A"
   ]
  },
  {
   "cell_type": "code",
   "execution_count": 7,
   "id": "d23282cd",
   "metadata": {},
   "outputs": [
    {
     "data": {
      "text/plain": [
       "array([[5, 6],\n",
       "       [7, 8]])"
      ]
     },
     "execution_count": 7,
     "metadata": {},
     "output_type": "execute_result"
    }
   ],
   "source": [
    "B"
   ]
  },
  {
   "cell_type": "code",
   "execution_count": 8,
   "id": "00ba461f",
   "metadata": {},
   "outputs": [
    {
     "data": {
      "text/plain": [
       "array([[-4, -4],\n",
       "       [-4, -4]])"
      ]
     },
     "execution_count": 8,
     "metadata": {},
     "output_type": "execute_result"
    }
   ],
   "source": [
    "# Element-wise operation \n",
    "A-B"
   ]
  },
  {
   "cell_type": "code",
   "execution_count": 9,
   "id": "16a37793",
   "metadata": {},
   "outputs": [
    {
     "data": {
      "text/plain": [
       "array([[19, 22],\n",
       "       [43, 50]])"
      ]
     },
     "execution_count": 9,
     "metadata": {},
     "output_type": "execute_result"
    }
   ],
   "source": [
    "# Matrix multiplication \n",
    "np.matmul(A, B)"
   ]
  },
  {
   "cell_type": "markdown",
   "id": "81e1da3f",
   "metadata": {},
   "source": [
    "A gentle reminder that matrix multiplication is not transitive! "
   ]
  },
  {
   "cell_type": "code",
   "execution_count": 10,
   "id": "d25b2788",
   "metadata": {},
   "outputs": [
    {
     "data": {
      "text/plain": [
       "array([[23, 34],\n",
       "       [31, 46]])"
      ]
     },
     "execution_count": 10,
     "metadata": {},
     "output_type": "execute_result"
    }
   ],
   "source": [
    "np.matmul(B, A)"
   ]
  },
  {
   "cell_type": "markdown",
   "id": "49c71df6",
   "metadata": {},
   "source": [
    "### Array broadcasting \n",
    "\n",
    "\"Array broadcasting\" is the ability of NumPy to automatically perform element-wise operations on arrays of different shapes by \"stretching\" the smaller array to match the dimensions of the larger one without physically copying the data."
   ]
  },
  {
   "cell_type": "code",
   "execution_count": 11,
   "id": "15017f52",
   "metadata": {},
   "outputs": [
    {
     "data": {
      "text/plain": [
       "array([[  1,   2,   3],\n",
       "       [  4, 100,   6]])"
      ]
     },
     "execution_count": 11,
     "metadata": {},
     "output_type": "execute_result"
    }
   ],
   "source": [
    "x2D_array"
   ]
  },
  {
   "cell_type": "code",
   "execution_count": 12,
   "id": "b6585d6d",
   "metadata": {},
   "outputs": [
    {
     "data": {
      "text/plain": [
       "array([[  3,   6,   9],\n",
       "       [ 12, 300,  18]])"
      ]
     },
     "execution_count": 12,
     "metadata": {},
     "output_type": "execute_result"
    }
   ],
   "source": [
    "3*x2D_array"
   ]
  },
  {
   "cell_type": "code",
   "execution_count": 13,
   "id": "d3ad2633",
   "metadata": {},
   "outputs": [
    {
     "data": {
      "text/plain": [
       "[1, 2, 3, 1, 2, 3, 1, 2, 3]"
      ]
     },
     "execution_count": 13,
     "metadata": {},
     "output_type": "execute_result"
    }
   ],
   "source": [
    "# Note, this is NOT how Python list syntax works \n",
    "3*[1, 2, 3]"
   ]
  },
  {
   "cell_type": "code",
   "execution_count": 14,
   "id": "2595e63a",
   "metadata": {},
   "outputs": [],
   "source": [
    "features = np.array([[0.1, 0.2, 0.3], [0.4, 0.5, 0.6]])\n",
    "bias = np.array([0.1, 0.1, 0.1])"
   ]
  },
  {
   "cell_type": "code",
   "execution_count": 15,
   "id": "7d8f583c",
   "metadata": {},
   "outputs": [
    {
     "data": {
      "text/plain": [
       "array([[0.1, 0.2, 0.3],\n",
       "       [0.4, 0.5, 0.6]])"
      ]
     },
     "execution_count": 15,
     "metadata": {},
     "output_type": "execute_result"
    }
   ],
   "source": [
    "features"
   ]
  },
  {
   "cell_type": "code",
   "execution_count": 16,
   "id": "1ef827da",
   "metadata": {},
   "outputs": [
    {
     "data": {
      "text/plain": [
       "array([0.1, 0.1, 0.1])"
      ]
     },
     "execution_count": 16,
     "metadata": {},
     "output_type": "execute_result"
    }
   ],
   "source": [
    "bias"
   ]
  },
  {
   "cell_type": "code",
   "execution_count": 17,
   "id": "da6b2b52",
   "metadata": {},
   "outputs": [
    {
     "name": "stdout",
     "output_type": "stream",
     "text": [
      "[[0.2 0.3 0.4]\n",
      " [0.5 0.6 0.7]]\n"
     ]
    }
   ],
   "source": [
    "adjusted_vectors = features + bias\n",
    "print(adjusted_vectors)"
   ]
  }
 ],
 "metadata": {
  "kernelspec": {
   "display_name": "Python [conda env:cs375] *",
   "language": "python",
   "name": "conda-env-cs375-py"
  },
  "language_info": {
   "codemirror_mode": {
    "name": "ipython",
    "version": 3
   },
   "file_extension": ".py",
   "mimetype": "text/x-python",
   "name": "python",
   "nbconvert_exporter": "python",
   "pygments_lexer": "ipython3",
   "version": "3.11.9"
  }
 },
 "nbformat": 4,
 "nbformat_minor": 5
}

{
 "cells": [
  {
   "cell_type": "markdown",
   "id": "0b696be8",
   "metadata": {},
   "source": [
    "# Lecture 1: Regular Expressions & Evaluation Metrics"
   ]
  },
  {
   "cell_type": "code",
   "execution_count": 1,
   "id": "e115b4c9",
   "metadata": {},
   "outputs": [],
   "source": [
    "# Check the name of the conda environment\n",
    "import os\n",
    "assert os.environ['CONDA_DEFAULT_ENV'] == \"cs375\"\n",
    "\n",
    "# Check that the Python version is 3.11\n",
    "import sys\n",
    "assert sys.version_info.major == 3 and sys.version_info.minor == 11"
   ]
  },
  {
   "cell_type": "code",
   "execution_count": 2,
   "id": "fa841d69",
   "metadata": {},
   "outputs": [],
   "source": [
    "import re\n",
    "import typing"
   ]
  },
  {
   "cell_type": "markdown",
   "id": "2e325b73",
   "metadata": {},
   "source": [
    "Eliza reimplementation"
   ]
  },
  {
   "cell_type": "code",
   "execution_count": 5,
   "id": "10b37e7b",
   "metadata": {},
   "outputs": [],
   "source": [
    "text = \"I am fine\"\n",
    "regex = r'I am (.*)'\n",
    "match_obj = re.match(regex, text)"
   ]
  },
  {
   "cell_type": "code",
   "execution_count": 6,
   "id": "96072836",
   "metadata": {},
   "outputs": [
    {
     "data": {
      "text/plain": [
       "False"
      ]
     },
     "execution_count": 6,
     "metadata": {},
     "output_type": "execute_result"
    }
   ],
   "source": [
    "match_obj == None"
   ]
  },
  {
   "cell_type": "code",
   "execution_count": 7,
   "id": "2ac9c6ea",
   "metadata": {},
   "outputs": [
    {
     "data": {
      "text/plain": [
       "True"
      ]
     },
     "execution_count": 7,
     "metadata": {},
     "output_type": "execute_result"
    }
   ],
   "source": [
    "match_obj != None"
   ]
  },
  {
   "cell_type": "code",
   "execution_count": 8,
   "id": "7b0c6231",
   "metadata": {},
   "outputs": [
    {
     "data": {
      "text/plain": [
       "'fine'"
      ]
     },
     "execution_count": 8,
     "metadata": {},
     "output_type": "execute_result"
    }
   ],
   "source": [
    "match_obj.group(1)"
   ]
  },
  {
   "cell_type": "code",
   "execution_count": 9,
   "id": "3d3f2b37",
   "metadata": {},
   "outputs": [
    {
     "data": {
      "text/plain": [
       "'How long have you been fine'"
      ]
     },
     "execution_count": 9,
     "metadata": {},
     "output_type": "execute_result"
    }
   ],
   "source": [
    "response = \"How long have you been %\"\n",
    "re.sub(\"%\", match_obj.group(1), response)"
   ]
  },
  {
   "cell_type": "code",
   "execution_count": 10,
   "id": "4a834766",
   "metadata": {},
   "outputs": [],
   "source": [
    "class Eliza: \n",
    "    def __init__(self):\n",
    "        self.patterns = {\n",
    "            r'I am (.*)': \"How long have you been %?\",\n",
    "            r'I need (.*)': \"Why do you need %\", \n",
    "            r'I feel (.*)': \"Do you often feel %?\", \n",
    "            r'.*child.*': \"How do you think your childhood experiences relate to your feelings today?\",\n",
    "            r'(.*)\\?': \"Please consider whether you can answer your own question.\", \n",
    "        }\n",
    "        \n",
    "    def respond(self, user_text): \n",
    "        for pattern, response in self.patterns.items(): \n",
    "            match_obj = re.match(pattern, user_text)\n",
    "            if match_obj != None: \n",
    "                return re.sub(\"%\", match_obj.group(1), response)\n",
    "        return \"Please elaborate.\""
   ]
  },
  {
   "cell_type": "code",
   "execution_count": null,
   "id": "8980c055",
   "metadata": {},
   "outputs": [],
   "source": [
    "print(\"ELIZA: Hello! I'm ELIZA. How are you today?\")\n",
    "eliza_bot = Eliza()\n",
    "while True: \n",
    "    user_text = input(\"User: \")\n",
    "    response = eliza_bot.respond(user_text)\n",
    "    print(\"ELIZA: \", response)"
   ]
  },
  {
   "cell_type": "code",
   "execution_count": 27,
   "id": "d6cf7d78",
   "metadata": {},
   "outputs": [
    {
     "data": {
      "text/plain": [
       "[' fine', 'tired']"
      ]
     },
     "execution_count": 27,
     "metadata": {},
     "output_type": "execute_result"
    }
   ],
   "source": [
    "text = \"I am so fine. I am tired.\"\n",
    "regex = r'I am (?:so)?(.*?)\\.'\n",
    "re.findall(regex, text)"
   ]
  },
  {
   "cell_type": "code",
   "execution_count": 42,
   "id": "880267e7",
   "metadata": {},
   "outputs": [
    {
     "data": {
      "text/plain": [
       "['woodchuck', 'woodchucks', 'Woodchuck', 'Woodchucks']"
      ]
     },
     "execution_count": 42,
     "metadata": {},
     "output_type": "execute_result"
    }
   ],
   "source": [
    "text = \"woodchuck woodchucks Woodchuck Woodchucks WOODCHUCKS\"\n",
    "regex = r'[wW]oodchucks?'\n",
    "#regex = r'(?i)woodchuck[s]?'\n",
    "re.findall(regex, text)"
   ]
  },
  {
   "cell_type": "markdown",
   "id": "0311ef59",
   "metadata": {},
   "source": [
    "Sentiment"
   ]
  },
  {
   "cell_type": "code",
   "execution_count": 45,
   "id": "da935ad5",
   "metadata": {},
   "outputs": [],
   "source": [
    "# Sentiment dictionaries\n",
    "positive_set = {\"good\", \"happy\", \"excellent\", \"fantastic\", \"love\", \"wonderful\"}\n",
    "negative_set = {\"bad\", \"sad\", \"terrible\", \"awful\", \"hate\", \"horrible\"}"
   ]
  },
  {
   "cell_type": "code",
   "execution_count": 46,
   "id": "c9f44c76",
   "metadata": {},
   "outputs": [],
   "source": [
    "def classify_sentiment(text: str) -> str:\n",
    "    \"\"\"\n",
    "    This classifies the sentiment of the input text \n",
    "    \"\"\"\n",
    "    text = text.lower()\n",
    "    score = 0 \n",
    "    for word in positive_set: \n",
    "        if re.search(word, text) != None: \n",
    "            score += 1\n",
    "            \n",
    "    for word in negative_set: \n",
    "        if re.search(word, text) != None: \n",
    "            score -= 1\n",
    "    \n",
    "    if score > 0: \n",
    "        return \"pos\"\n",
    "    elif score <0: \n",
    "        return \"neg\"\n",
    "    else: \n",
    "        return \"neutral\""
   ]
  },
  {
   "cell_type": "code",
   "execution_count": 47,
   "id": "db1a8958",
   "metadata": {},
   "outputs": [
    {
     "data": {
      "text/plain": [
       "'pos'"
      ]
     },
     "execution_count": 47,
     "metadata": {},
     "output_type": "execute_result"
    }
   ],
   "source": [
    "classify_sentiment(\"This product is very good\")"
   ]
  },
  {
   "cell_type": "code",
   "execution_count": 48,
   "id": "45ddf4da",
   "metadata": {},
   "outputs": [
    {
     "data": {
      "text/plain": [
       "'neg'"
      ]
     },
     "execution_count": 48,
     "metadata": {},
     "output_type": "execute_result"
    }
   ],
   "source": [
    "classify_sentiment(\"This product is horrible\")"
   ]
  },
  {
   "cell_type": "code",
   "execution_count": 50,
   "id": "2fa3ae42",
   "metadata": {},
   "outputs": [
    {
     "data": {
      "text/plain": [
       "'neutral'"
      ]
     },
     "execution_count": 50,
     "metadata": {},
     "output_type": "execute_result"
    }
   ],
   "source": [
    "classify_sentiment(\"This product is horrible but I love it\")"
   ]
  },
  {
   "cell_type": "code",
   "execution_count": 51,
   "id": "fb2230bc",
   "metadata": {},
   "outputs": [],
   "source": [
    "Y = [1, 0, 1, 1, 0]\n",
    "Y_hat = [1, 0, 1, 0, 0]"
   ]
  },
  {
   "cell_type": "code",
   "execution_count": 53,
   "id": "263cf6ad",
   "metadata": {},
   "outputs": [
    {
     "name": "stdout",
     "output_type": "stream",
     "text": [
      "[(1, 1), (0, 0), (1, 1), (1, 0), (0, 0)]\n"
     ]
    }
   ],
   "source": [
    "print(list(zip(Y, Y_hat)))"
   ]
  },
  {
   "cell_type": "code",
   "execution_count": 55,
   "id": "dbc3f30c",
   "metadata": {},
   "outputs": [
    {
     "name": "stdout",
     "output_type": "stream",
     "text": [
      "4\n"
     ]
    }
   ],
   "source": [
    "num_correct = 0 \n",
    "for true, pred in zip(Y, Y_hat): \n",
    "    if true == pred: \n",
    "        num_correct += 1 \n",
    "print(num_correct)"
   ]
  },
  {
   "cell_type": "code",
   "execution_count": 56,
   "id": "2f97fc72",
   "metadata": {},
   "outputs": [
    {
     "data": {
      "text/plain": [
       "4"
      ]
     },
     "execution_count": 56,
     "metadata": {},
     "output_type": "execute_result"
    }
   ],
   "source": [
    "num_correct = sum([1 for true, pred in zip(Y, Y_hat) if true == pred])\n",
    "num_correct"
   ]
  },
  {
   "cell_type": "markdown",
   "id": "25e6eed4",
   "metadata": {},
   "source": [
    "Exploring F1 scores "
   ]
  },
  {
   "cell_type": "code",
   "execution_count": 57,
   "id": "9ddd4de6",
   "metadata": {},
   "outputs": [],
   "source": [
    "from ipywidgets import interact"
   ]
  },
  {
   "cell_type": "code",
   "execution_count": 59,
   "id": "e475a232",
   "metadata": {},
   "outputs": [
    {
     "data": {
      "application/vnd.jupyter.widget-view+json": {
       "model_id": "6a3c3fea4ce54cecb0335c1265000ed3",
       "version_major": 2,
       "version_minor": 0
      },
      "text/plain": [
       "interactive(children=(IntSlider(value=10, description='x', max=30, min=-10), Output()), _dom_classes=('widget-…"
      ]
     },
     "metadata": {},
     "output_type": "display_data"
    }
   ],
   "source": [
    "def f(x): \n",
    "    return x \n",
    "\n",
    "interact(f, x=10);"
   ]
  },
  {
   "cell_type": "code",
   "execution_count": 61,
   "id": "b3885c6e",
   "metadata": {},
   "outputs": [
    {
     "name": "stdout",
     "output_type": "stream",
     "text": [
      "Precision=0.92 and Recall=0.72\n"
     ]
    }
   ],
   "source": [
    "# F-string \n",
    "prec = 0.9230948239084\n",
    "recall = 0.720398409238094\n",
    "out = f\"Precision={prec:.2f} and Recall={recall:.2f}\"\n",
    "print(out)"
   ]
  },
  {
   "cell_type": "code",
   "execution_count": 62,
   "id": "bf1dce73",
   "metadata": {},
   "outputs": [],
   "source": [
    "def f1_score(TP, FP, TN, FN): \n",
    "    prec = TP/ (TP + FP)\n",
    "    recall = TP / (TP + FN)\n",
    "    f1 = 2 * (prec * recall)/ (prec + recall)\n",
    "    out = f\"Precision={prec:.2f}\\nRecall={recall:.2f}\\nF1={f1:.2f}\"\n",
    "    print(out)"
   ]
  },
  {
   "cell_type": "code",
   "execution_count": 66,
   "id": "7246bda6",
   "metadata": {},
   "outputs": [
    {
     "data": {
      "application/vnd.jupyter.widget-view+json": {
       "model_id": "6db7f33fc4694547aa3a6c16e14a694a",
       "version_major": 2,
       "version_minor": 0
      },
      "text/plain": [
       "interactive(children=(IntSlider(value=50, description='TP', max=150, min=-50), IntSlider(value=50, description…"
      ]
     },
     "metadata": {},
     "output_type": "display_data"
    }
   ],
   "source": [
    "interact(f1_score, TP=50, FP=50, TN=50, FN=50);"
   ]
  }
 ],
 "metadata": {
  "kernelspec": {
   "display_name": "Python [conda env:cs375] *",
   "language": "python",
   "name": "conda-env-cs375-py"
  },
  "language_info": {
   "codemirror_mode": {
    "name": "ipython",
    "version": 3
   },
   "file_extension": ".py",
   "mimetype": "text/x-python",
   "name": "python",
   "nbconvert_exporter": "python",
   "pygments_lexer": "ipython3",
   "version": "3.11.9"
  }
 },
 "nbformat": 4,
 "nbformat_minor": 5
}
